{
 "cells": [
  {
   "cell_type": "code",
   "execution_count": 1,
   "metadata": {
    "colab": {
     "autoexec": {
      "startup": false,
      "wait_interval": 0
     },
     "base_uri": "https://localhost:8080/",
     "height": 34,
     "output_extras": [
      {
       "item_id": 1
      }
     ]
    },
    "colab_type": "code",
    "executionInfo": {
     "elapsed": 1979,
     "status": "ok",
     "timestamp": 1521748453897,
     "user": {
      "displayName": "chaikesh chouragade",
      "photoUrl": "//lh3.googleusercontent.com/-uz9Inp15a50/AAAAAAAAAAI/AAAAAAAAA3Q/zdzf_Pc0lew/s50-c-k-no/photo.jpg",
      "userId": "110322358844142669122"
     },
     "user_tz": -330
    },
    "id": "-pNREKOX_6mm",
    "outputId": "2bf37646-3a39-4010-8ec3-12050353b8ac"
   },
   "outputs": [
    {
     "name": "stderr",
     "output_type": "stream",
     "text": [
      "/home/chaikesh/anaconda2/envs/tensorflow/lib/python2.7/site-packages/h5py/__init__.py:36: FutureWarning: Conversion of the second argument of issubdtype from `float` to `np.floating` is deprecated. In future, it will be treated as `np.float64 == np.dtype(float).type`.\n",
      "  from ._conv import register_converters as _register_converters\n",
      "Using TensorFlow backend.\n"
     ]
    },
    {
     "data": {
      "text/plain": [
       "66802"
      ]
     },
     "execution_count": 1,
     "metadata": {},
     "output_type": "execute_result"
    }
   ],
   "source": [
    "\n",
    "from random import randint\n",
    "from numpy import array\n",
    "from pickle import dump\n",
    "from keras.preprocessing.text import Tokenizer\n",
    "from keras.utils import to_categorical\n",
    "from keras.models import Sequential\n",
    "from keras.layers import Dense\n",
    "from keras.layers import LSTM\n",
    "from keras.layers import Embedding\n",
    "import numpy as np\n",
    "# In[]\n",
    "\n",
    "\n",
    "import string\n",
    "import re\n",
    "# turn a doc into clean tokens\n",
    "def clean_doc(doc):\n",
    "    # replace '--' with a space ' '\n",
    "    doc = doc.replace('--', ' ')\n",
    "    # split into tokens by white space\n",
    "    tokens = doc.split()\n",
    "    # remove punctuation from each token\n",
    "\n",
    "\n",
    "    tokens = [re.sub(r'[^\\w\\s]','',w) for w in tokens]\n",
    "    # remove remaining tokens that are not alphabetic\n",
    "    tokens = [word for word in tokens if word.isalpha()]\n",
    "    # make lower case\n",
    "    tokens = [word.lower() for word in tokens]\n",
    "    return tokens\n",
    "\n",
    "\n",
    "# In[]\n",
    "from nltk.corpus import gutenberg\n",
    "\n",
    "tokens_raw1 = gutenberg.words('austen-emma.txt')\n",
    "n1 = len(tokens_raw1)\n",
    "tokens_train1  = tokens_raw1[0:int(0.8*n1)];\n",
    "tokens_test1 = tokens_raw1[int(0.8*n1):n1]; \n",
    "\n",
    "tokens_raw2 = gutenberg.words('austen-sense.txt')\n",
    "n2 = len(tokens_raw2)\n",
    "tokens_train2  = tokens_raw2[0:int(0.8*n2)];\n",
    "tokens_test2 = tokens_raw2[int(0.8*n2):n2]; \n",
    "\n",
    "tokens_raw = tokens_train1 + tokens_train2\n",
    "tokens_test = tokens_test1 + tokens_test2\n",
    "\n",
    "text_raw = ' '.join(tokens_raw)\n",
    "tokens = clean_doc(text_raw)\n",
    "\n",
    "\n",
    "\n",
    "len(tokens_test)\n"
   ]
  },
  {
   "cell_type": "code",
   "execution_count": 2,
   "metadata": {
    "colab": {
     "autoexec": {
      "startup": false,
      "wait_interval": 0
     },
     "base_uri": "https://localhost:8080/",
     "height": 34,
     "output_extras": [
      {
       "item_id": 1
      }
     ]
    },
    "colab_type": "code",
    "executionInfo": {
     "elapsed": 1066,
     "status": "ok",
     "timestamp": 1521748455044,
     "user": {
      "displayName": "chaikesh chouragade",
      "photoUrl": "//lh3.googleusercontent.com/-uz9Inp15a50/AAAAAAAAAAI/AAAAAAAAA3Q/zdzf_Pc0lew/s50-c-k-no/photo.jpg",
      "userId": "110322358844142669122"
     },
     "user_tz": -330
    },
    "id": "LB5gs9hLM3ru",
    "outputId": "8412946b-5512-4b4d-a55d-c7f1ac261180"
   },
   "outputs": [
    {
     "name": "stdout",
     "output_type": "stream",
     "text": [
      "Total Sequences: 112954\n"
     ]
    }
   ],
   "source": [
    "# In[]\n",
    "# organize into sequences of tokens\n",
    "length = 50 + 1\n",
    "step =2\n",
    "sequences = list()\n",
    "for i in range(0,len(tokens)-length, step):\n",
    "\t# select sequence of tokens\n",
    "\tseq = tokens[i:i+length]\n",
    "\t# convert into a line\n",
    "\tline = ' '.join(seq)\n",
    "\t# store\n",
    "\tsequences.append(line)\n",
    "print('Total Sequences: %d' % len(sequences))"
   ]
  },
  {
   "cell_type": "code",
   "execution_count": 3,
   "metadata": {
    "colab": {
     "autoexec": {
      "startup": false,
      "wait_interval": 0
     },
     "base_uri": "https://localhost:8080/",
     "height": 34,
     "output_extras": [
      {
       "item_id": 1
      }
     ]
    },
    "colab_type": "code",
    "executionInfo": {
     "elapsed": 7460,
     "status": "ok",
     "timestamp": 1521748462641,
     "user": {
      "displayName": "chaikesh chouragade",
      "photoUrl": "//lh3.googleusercontent.com/-uz9Inp15a50/AAAAAAAAAAI/AAAAAAAAA3Q/zdzf_Pc0lew/s50-c-k-no/photo.jpg",
      "userId": "110322358844142669122"
     },
     "user_tz": -330
    },
    "id": "ZQMb-7F1MuE0",
    "outputId": "a44bac79-feec-4901-a182-66b40a71eb94"
   },
   "outputs": [
    {
     "data": {
      "text/plain": [
       "50"
      ]
     },
     "execution_count": 3,
     "metadata": {},
     "output_type": "execute_result"
    }
   ],
   "source": [
    "lines = sequences\n",
    "# In[]\n",
    "# integer encode sequences of words\n",
    "tokenizer = Tokenizer()\n",
    "tokenizer.fit_on_texts(lines)\n",
    "sequences = tokenizer.texts_to_sequences(lines)\n",
    "\n",
    "# In[]\n",
    "\n",
    "# vocabulary size\n",
    "vocab_size = len(tokenizer.word_index) + 1\n",
    "\n",
    "# In[]\n",
    "# separate into input and output\n",
    "sequences = array(sequences)\n",
    "X, y = sequences[:,:-1], sequences[:,-1]\n",
    "y = to_categorical(y, num_classes=vocab_size)\n",
    "seq_length = X.shape[1]\n",
    "seq_length"
   ]
  },
  {
   "cell_type": "code",
   "execution_count": 4,
   "metadata": {
    "colab": {
     "autoexec": {
      "startup": false,
      "wait_interval": 0
     },
     "base_uri": "https://localhost:8080/",
     "height": 3063,
     "output_extras": [
      {
       "item_id": 17
      },
      {
       "item_id": 201
      },
      {
       "item_id": 319
      },
      {
       "item_id": 455
      },
      {
       "item_id": 597
      },
      {
       "item_id": 693
      },
      {
       "item_id": 794
      },
      {
       "item_id": 884
      },
      {
       "item_id": 983
      },
      {
       "item_id": 1087
      },
      {
       "item_id": 1188
      },
      {
       "item_id": 1344
      },
      {
       "item_id": 1446
      },
      {
       "item_id": 1550
      },
      {
       "item_id": 1655
      },
      {
       "item_id": 1756
      },
      {
       "item_id": 1856
      },
      {
       "item_id": 1957
      },
      {
       "item_id": 2055
      },
      {
       "item_id": 2154
      },
      {
       "item_id": 2318
      },
      {
       "item_id": 2540
      },
      {
       "item_id": 2704
      },
      {
       "item_id": 2854
      },
      {
       "item_id": 2992
      },
      {
       "item_id": 3111
      },
      {
       "item_id": 3264
      },
      {
       "item_id": 3485
      },
      {
       "item_id": 3708
      },
      {
       "item_id": 3938
      },
      {
       "item_id": 4158
      },
      {
       "item_id": 4374
      },
      {
       "item_id": 4590
      },
      {
       "item_id": 4794
      },
      {
       "item_id": 5017
      },
      {
       "item_id": 5221
      },
      {
       "item_id": 5442
      },
      {
       "item_id": 5678
      },
      {
       "item_id": 5891
      },
      {
       "item_id": 6114
      },
      {
       "item_id": 6324
      },
      {
       "item_id": 6509
      },
      {
       "item_id": 6644
      },
      {
       "item_id": 6849
      },
      {
       "item_id": 7066
      },
      {
       "item_id": 7294
      },
      {
       "item_id": 7518
      },
      {
       "item_id": 7722
      },
      {
       "item_id": 7919
      },
      {
       "item_id": 8123
      },
      {
       "item_id": 8347
      },
      {
       "item_id": 8572
      },
      {
       "item_id": 8790
      },
      {
       "item_id": 9012
      },
      {
       "item_id": 9243
      },
      {
       "item_id": 9460
      },
      {
       "item_id": 9678
      },
      {
       "item_id": 9885
      },
      {
       "item_id": 10103
      },
      {
       "item_id": 10302
      },
      {
       "item_id": 10521
      },
      {
       "item_id": 10729
      },
      {
       "item_id": 10955
      },
      {
       "item_id": 11164
      },
      {
       "item_id": 11379
      },
      {
       "item_id": 11594
      },
      {
       "item_id": 11801
      },
      {
       "item_id": 12002
      },
      {
       "item_id": 12211
      },
      {
       "item_id": 12437
      },
      {
       "item_id": 12672
      },
      {
       "item_id": 12857
      },
      {
       "item_id": 13069
      },
      {
       "item_id": 13281
      },
      {
       "item_id": 13492
      },
      {
       "item_id": 13712
      },
      {
       "item_id": 13931
      },
      {
       "item_id": 14146
      },
      {
       "item_id": 14386
      },
      {
       "item_id": 14602
      },
      {
       "item_id": 14639
      }
     ]
    },
    "colab_type": "code",
    "executionInfo": {
     "elapsed": 8430491,
     "status": "ok",
     "timestamp": 1521756893185,
     "user": {
      "displayName": "chaikesh chouragade",
      "photoUrl": "//lh3.googleusercontent.com/-uz9Inp15a50/AAAAAAAAAAI/AAAAAAAAA3Q/zdzf_Pc0lew/s50-c-k-no/photo.jpg",
      "userId": "110322358844142669122"
     },
     "user_tz": -330
    },
    "id": "I0GkyqlTMerN",
    "outputId": "f5e04ab8-2e24-4e85-df73-755b09f1f263"
   },
   "outputs": [
    {
     "name": "stdout",
     "output_type": "stream",
     "text": [
      "_________________________________________________________________\n",
      "Layer (type)                 Output Shape              Param #   \n",
      "=================================================================\n",
      "embedding_1 (Embedding)      (None, 50, 300)           2483400   \n",
      "_________________________________________________________________\n",
      "lstm_1 (LSTM)                (None, 50, 100)           160400    \n",
      "_________________________________________________________________\n",
      "lstm_2 (LSTM)                (None, 100)               80400     \n",
      "_________________________________________________________________\n",
      "dense_1 (Dense)              (None, 100)               10100     \n",
      "_________________________________________________________________\n",
      "dense_2 (Dense)              (None, 8278)              836078    \n",
      "=================================================================\n",
      "Total params: 3,570,378\n",
      "Trainable params: 3,570,378\n",
      "Non-trainable params: 0\n",
      "_________________________________________________________________\n",
      "None\n"
     ]
    }
   ],
   "source": [
    "# define model\n",
    "model = Sequential()\n",
    "model.add(Embedding(vocab_size, 300, input_length=seq_length))\n",
    "model.add(LSTM(100, return_sequences=True))\n",
    "model.add(LSTM(100))\n",
    "model.add(Dense(100, activation='relu'))\n",
    "model.add(Dense(vocab_size, activation='softmax'))\n",
    "print(model.summary())"
   ]
  },
  {
   "cell_type": "code",
   "execution_count": null,
   "metadata": {
    "colab": {
     "autoexec": {
      "startup": false,
      "wait_interval": 0
     },
     "base_uri": "https://localhost:8080/",
     "height": 3063,
     "output_extras": [
      {
       "item_id": 17
      },
      {
       "item_id": 201
      },
      {
       "item_id": 319
      },
      {
       "item_id": 455
      },
      {
       "item_id": 597
      },
      {
       "item_id": 693
      },
      {
       "item_id": 794
      },
      {
       "item_id": 884
      },
      {
       "item_id": 983
      },
      {
       "item_id": 1087
      },
      {
       "item_id": 1188
      },
      {
       "item_id": 1344
      },
      {
       "item_id": 1446
      },
      {
       "item_id": 1550
      },
      {
       "item_id": 1655
      },
      {
       "item_id": 1756
      },
      {
       "item_id": 1856
      },
      {
       "item_id": 1957
      },
      {
       "item_id": 2055
      },
      {
       "item_id": 2154
      },
      {
       "item_id": 2318
      },
      {
       "item_id": 2540
      },
      {
       "item_id": 2704
      },
      {
       "item_id": 2854
      },
      {
       "item_id": 2992
      },
      {
       "item_id": 3111
      },
      {
       "item_id": 3264
      },
      {
       "item_id": 3485
      },
      {
       "item_id": 3708
      },
      {
       "item_id": 3938
      },
      {
       "item_id": 4158
      },
      {
       "item_id": 4374
      },
      {
       "item_id": 4590
      },
      {
       "item_id": 4794
      },
      {
       "item_id": 5017
      },
      {
       "item_id": 5221
      },
      {
       "item_id": 5442
      },
      {
       "item_id": 5678
      },
      {
       "item_id": 5891
      },
      {
       "item_id": 6114
      },
      {
       "item_id": 6324
      },
      {
       "item_id": 6509
      },
      {
       "item_id": 6644
      },
      {
       "item_id": 6849
      },
      {
       "item_id": 7066
      },
      {
       "item_id": 7294
      },
      {
       "item_id": 7518
      },
      {
       "item_id": 7722
      },
      {
       "item_id": 7919
      },
      {
       "item_id": 8123
      },
      {
       "item_id": 8347
      },
      {
       "item_id": 8572
      },
      {
       "item_id": 8790
      },
      {
       "item_id": 9012
      },
      {
       "item_id": 9243
      },
      {
       "item_id": 9460
      },
      {
       "item_id": 9678
      },
      {
       "item_id": 9885
      },
      {
       "item_id": 10103
      },
      {
       "item_id": 10302
      },
      {
       "item_id": 10521
      },
      {
       "item_id": 10729
      },
      {
       "item_id": 10955
      },
      {
       "item_id": 11164
      },
      {
       "item_id": 11379
      },
      {
       "item_id": 11594
      },
      {
       "item_id": 11801
      },
      {
       "item_id": 12002
      },
      {
       "item_id": 12211
      },
      {
       "item_id": 12437
      },
      {
       "item_id": 12672
      },
      {
       "item_id": 12857
      },
      {
       "item_id": 13069
      },
      {
       "item_id": 13281
      },
      {
       "item_id": 13492
      },
      {
       "item_id": 13712
      },
      {
       "item_id": 13931
      },
      {
       "item_id": 14146
      },
      {
       "item_id": 14386
      },
      {
       "item_id": 14602
      },
      {
       "item_id": 14639
      }
     ]
    },
    "colab_type": "code",
    "executionInfo": {
     "elapsed": 8430491,
     "status": "ok",
     "timestamp": 1521756893185,
     "user": {
      "displayName": "chaikesh chouragade",
      "photoUrl": "//lh3.googleusercontent.com/-uz9Inp15a50/AAAAAAAAAAI/AAAAAAAAA3Q/zdzf_Pc0lew/s50-c-k-no/photo.jpg",
      "userId": "110322358844142669122"
     },
     "user_tz": -330
    },
    "id": "I0GkyqlTMerN",
    "outputId": "f5e04ab8-2e24-4e85-df73-755b09f1f263"
   },
   "outputs": [],
   "source": [
    "# In[]\n",
    "\n",
    "# compile model\n",
    "model.compile(loss='categorical_crossentropy', optimizer='adam', metrics=['accuracy'])\n",
    "# fit model\n",
    "model.fit(X, y, batch_size=128, epochs=80)\n",
    "\n",
    "# In[]\n",
    "\n",
    "# save the model to file\n",
    "model.save('model_a03_wl_300_100_80.h5')\n",
    "# save the tokenizer\n",
    "dump(tokenizer, open('tokenizer_.pkl', 'wb'))"
   ]
  },
  {
   "cell_type": "code",
   "execution_count": 9,
   "metadata": {},
   "outputs": [],
   "source": [
    "from random import randint\n",
    "from pickle import load\n",
    "from keras.models import load_model\n",
    "# load the model\n",
    "model = load_model('model_a03_wl_300_100_80.h5')\n",
    "# load the tokenizer\n",
    "tokenizer = load(open('tokenizera03_wl_300_100_80.pkl', 'rb'))"
   ]
  },
  {
   "cell_type": "code",
   "execution_count": 10,
   "metadata": {
    "colab": {
     "autoexec": {
      "startup": false,
      "wait_interval": 0
     },
     "base_uri": "https://localhost:8080/",
     "height": 3063,
     "output_extras": [
      {
       "item_id": 17
      },
      {
       "item_id": 201
      },
      {
       "item_id": 319
      },
      {
       "item_id": 455
      },
      {
       "item_id": 597
      },
      {
       "item_id": 693
      },
      {
       "item_id": 794
      },
      {
       "item_id": 884
      },
      {
       "item_id": 983
      },
      {
       "item_id": 1087
      },
      {
       "item_id": 1188
      },
      {
       "item_id": 1344
      },
      {
       "item_id": 1446
      },
      {
       "item_id": 1550
      },
      {
       "item_id": 1655
      },
      {
       "item_id": 1756
      },
      {
       "item_id": 1856
      },
      {
       "item_id": 1957
      },
      {
       "item_id": 2055
      },
      {
       "item_id": 2154
      },
      {
       "item_id": 2318
      },
      {
       "item_id": 2540
      },
      {
       "item_id": 2704
      },
      {
       "item_id": 2854
      },
      {
       "item_id": 2992
      },
      {
       "item_id": 3111
      },
      {
       "item_id": 3264
      },
      {
       "item_id": 3485
      },
      {
       "item_id": 3708
      },
      {
       "item_id": 3938
      },
      {
       "item_id": 4158
      },
      {
       "item_id": 4374
      },
      {
       "item_id": 4590
      },
      {
       "item_id": 4794
      },
      {
       "item_id": 5017
      },
      {
       "item_id": 5221
      },
      {
       "item_id": 5442
      },
      {
       "item_id": 5678
      },
      {
       "item_id": 5891
      },
      {
       "item_id": 6114
      },
      {
       "item_id": 6324
      },
      {
       "item_id": 6509
      },
      {
       "item_id": 6644
      },
      {
       "item_id": 6849
      },
      {
       "item_id": 7066
      },
      {
       "item_id": 7294
      },
      {
       "item_id": 7518
      },
      {
       "item_id": 7722
      },
      {
       "item_id": 7919
      },
      {
       "item_id": 8123
      },
      {
       "item_id": 8347
      },
      {
       "item_id": 8572
      },
      {
       "item_id": 8790
      },
      {
       "item_id": 9012
      },
      {
       "item_id": 9243
      },
      {
       "item_id": 9460
      },
      {
       "item_id": 9678
      },
      {
       "item_id": 9885
      },
      {
       "item_id": 10103
      },
      {
       "item_id": 10302
      },
      {
       "item_id": 10521
      },
      {
       "item_id": 10729
      },
      {
       "item_id": 10955
      },
      {
       "item_id": 11164
      },
      {
       "item_id": 11379
      },
      {
       "item_id": 11594
      },
      {
       "item_id": 11801
      },
      {
       "item_id": 12002
      },
      {
       "item_id": 12211
      },
      {
       "item_id": 12437
      },
      {
       "item_id": 12672
      },
      {
       "item_id": 12857
      },
      {
       "item_id": 13069
      },
      {
       "item_id": 13281
      },
      {
       "item_id": 13492
      },
      {
       "item_id": 13712
      },
      {
       "item_id": 13931
      },
      {
       "item_id": 14146
      },
      {
       "item_id": 14386
      },
      {
       "item_id": 14602
      },
      {
       "item_id": 14639
      }
     ]
    },
    "colab_type": "code",
    "executionInfo": {
     "elapsed": 8430491,
     "status": "ok",
     "timestamp": 1521756893185,
     "user": {
      "displayName": "chaikesh chouragade",
      "photoUrl": "//lh3.googleusercontent.com/-uz9Inp15a50/AAAAAAAAAAI/AAAAAAAAA3Q/zdzf_Pc0lew/s50-c-k-no/photo.jpg",
      "userId": "110322358844142669122"
     },
     "user_tz": -330
    },
    "id": "I0GkyqlTMerN",
    "outputId": "f5e04ab8-2e24-4e85-df73-755b09f1f263"
   },
   "outputs": [],
   "source": [
    "# In[]\n",
    "from keras.preprocessing.sequence import pad_sequences\n",
    "\n",
    "\n",
    "# generate a sequence from a language model\n",
    "def generate_seq(model, tokenizer, seq_length, seed_text, n_words):\n",
    "\tresult = list()\n",
    "\tin_text = seed_text\n",
    "\t# generate a fixed number of words\n",
    "\tfor _ in range(n_words):\n",
    "\t\t# encode the text as integer\n",
    "\t\tencoded = tokenizer.texts_to_sequences([in_text])[0]\n",
    "\t\t# truncate sequences to a fixed length\n",
    "\t\tencoded = pad_sequences([encoded], maxlen=seq_length, truncating='pre')\n",
    "\t\t# predict probabilities for each word\n",
    "\t\tyhat = model.predict_classes(encoded, verbose=0)\n",
    "        #yhat1 = model.predict(encoded, verbose=0)\n",
    "\t\t# map predicted word index to word\n",
    "\t\tout_word = ''\n",
    "\t\tfor word, index in tokenizer.word_index.items():\n",
    "\t\t\tif index == yhat:\n",
    "\t\t\t\tout_word = word\n",
    "\t\t\t\tbreak\n",
    "\t\t# append to input\n",
    "\t\tin_text += ' ' + out_word\n",
    "\t\tresult.append(out_word)\n",
    "\treturn ' '.join(result)"
   ]
  },
  {
   "cell_type": "code",
   "execution_count": 11,
   "metadata": {
    "colab": {
     "autoexec": {
      "startup": false,
      "wait_interval": 0
     },
     "base_uri": "https://localhost:8080/",
     "height": 88,
     "output_extras": [
      {
       "item_id": 1
      }
     ]
    },
    "colab_type": "code",
    "executionInfo": {
     "elapsed": 1713,
     "status": "ok",
     "timestamp": 1521756894945,
     "user": {
      "displayName": "chaikesh chouragade",
      "photoUrl": "//lh3.googleusercontent.com/-uz9Inp15a50/AAAAAAAAAAI/AAAAAAAAA3Q/zdzf_Pc0lew/s50-c-k-no/photo.jpg",
      "userId": "110322358844142669122"
     },
     "user_tz": -330
    },
    "id": "Yy1OBGbKAIaf",
    "outputId": "7213aa4e-0dd0-4976-ad5b-2fc7945f1e30"
   },
   "outputs": [
    {
     "name": "stdout",
     "output_type": "stream",
     "text": [
      "the two last lines and there is no reason why you should not write it into your book oh but those two lines are the best of all granted for private enjoyment and for private enjoyment keep them they are not at all the less written you know because you divide\n",
      "\n",
      "her a little host lady i have not one who is as often bred a\n"
     ]
    }
   ],
   "source": [
    "# select a seed text\n",
    "seed_text = lines[randint(0,len(lines))]\n",
    "print(seed_text + '\\n')\n",
    "generated = generate_seq(model, tokenizer, seq_length, seed_text, 15)\n",
    "print(generated)\n"
   ]
  },
  {
   "cell_type": "code",
   "execution_count": 12,
   "metadata": {},
   "outputs": [],
   "source": [
    "test_tokens = tokens_test[1:10000]\n",
    "\n",
    "\n",
    "in_text = test_tokens[0]\n",
    "logp = 0\n",
    "c=0\n",
    "for word in test_tokens:\n",
    "    encoded = tokenizer.texts_to_sequences([in_text])[0]\n",
    "    encoded = pad_sequences([encoded], maxlen=seq_length, truncating='pre')\n",
    "    yhat1 = model.predict(encoded,verbose=0)[0]\n",
    "    next_word = word\n",
    "    if next_word in tokenizer.word_index:\n",
    "        p = yhat1[tokenizer.word_index[next_word]]\n",
    "        if  p >=0.00001:\n",
    "            c+=1\n",
    "            logp = logp + np.log(p)\n",
    "\n",
    "    else:\n",
    "        p = 1\n",
    "        c+=1\n",
    "        logp = logp + np.log(p)\n",
    "    \n",
    "    in_text +=' ' + next_word\n",
    "pplxty = np.exp(-1*logp/c)"
   ]
  },
  {
   "cell_type": "code",
   "execution_count": 13,
   "metadata": {},
   "outputs": [
    {
     "name": "stdout",
     "output_type": "stream",
     "text": [
      "6244\n"
     ]
    },
    {
     "data": {
      "text/plain": [
       "23.3939619517451"
      ]
     },
     "execution_count": 13,
     "metadata": {},
     "output_type": "execute_result"
    }
   ],
   "source": [
    "print c\n",
    "pplxty"
   ]
  },
  {
   "cell_type": "code",
   "execution_count": null,
   "metadata": {},
   "outputs": [],
   "source": []
  }
 ],
 "metadata": {
  "accelerator": "GPU",
  "colab": {
   "collapsed_sections": [],
   "default_view": {},
   "name": "a03_wl_300_100_80.ipynb",
   "provenance": [],
   "version": "0.3.2",
   "views": {}
  },
  "kernelspec": {
   "display_name": "Python 2",
   "language": "python",
   "name": "python2"
  },
  "language_info": {
   "codemirror_mode": {
    "name": "ipython",
    "version": 2
   },
   "file_extension": ".py",
   "mimetype": "text/x-python",
   "name": "python",
   "nbconvert_exporter": "python",
   "pygments_lexer": "ipython2",
   "version": "2.7.14"
  }
 },
 "nbformat": 4,
 "nbformat_minor": 1
}
